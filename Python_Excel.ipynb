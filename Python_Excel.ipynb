{
 "cells": [
  {
   "cell_type": "code",
   "execution_count": 1,
   "id": "0b5f4a48-943e-4657-a155-c2f16b519990",
   "metadata": {},
   "outputs": [],
   "source": [
    "from openpyxl import Workbook\n",
    "from openpyxl.utils import get_column_letter\n",
    "\n",
    "# Create a new workbook\n",
    "workbook = Workbook()\n",
    "sheet = workbook.active\n",
    "\n",
    "# Set column headers\n",
    "headers = ['Entry', 'Opposite Last Input', 'Same as Last Input', 'Did it match Last Input', 'Calculation 1', 'Calculation 2', 'Final Answer']\n",
    "for col_num, header in enumerate(headers, 1):\n",
    "    col_letter = get_column_letter(col_num)\n",
    "    sheet[f'{col_letter}1'] = header\n",
    "\n",
    "# Get user inputs\n",
    "user_inputs = ['A', 'Red', 'B', 'Blue', 'C', 'Green']\n",
    "\n",
    "# Initialize variables\n",
    "last_input = None\n",
    "\n",
    "# Process user inputs\n",
    "for row_num, user_input in enumerate(user_inputs, 2):\n",
    "    col_letter = get_column_letter(1)\n",
    "    sheet[f'{col_letter}{row_num}'] = user_input  # Write user input to Entry column\n",
    "\n",
    "    # Calculate and write values to other columns based on user input\n",
    "    if last_input is not None:\n",
    "        # Opposite Last Input\n",
    "        col_letter = get_column_letter(2)\n",
    "        sheet[f'{col_letter}{row_num}'] = 'Opposite' if user_input != last_input else 'Same'\n",
    "\n",
    "        # Same as Last Input\n",
    "        col_letter = get_column_letter(3)\n",
    "        sheet[f'{col_letter}{row_num}'] = 'Yes' if user_input == last_input else 'No'\n",
    "\n",
    "        # Did it match Last Input\n",
    "        col_letter = get_column_letter(4)\n",
    "        sheet[f'{col_letter}{row_num}'] = 'Yes' if user_input == user_inputs[row_num - 3] else 'No'\n",
    "\n",
    "        # Calculation 1 (example calculation: length of user input)\n",
    "        col_letter = get_column_letter(5)\n",
    "        sheet[f'{col_letter}{row_num}'] = len(user_input)\n",
    "\n",
    "        # Calculation 2 (example calculation: ASCII value of first character in user input)\n",
    "        col_letter = get_column_letter(6)\n",
    "        sheet[f'{col_letter}{row_num}'] = ord(user_input[0])\n",
    "\n",
    "    last_input = user_input\n",
    "\n",
    "# Perform final calculation (example: sum of Calculation 1 column)\n",
    "col_letter = get_column_letter(7)\n",
    "sheet[f'{col_letter}{row_num + 1}'] = f'=SUM({col_letter}2:{col_letter}{row_num})'\n",
    "\n",
    "# Save the workbook\n",
    "workbook.save('output.xlsx')"
   ]
  },
  {
   "cell_type": "code",
   "execution_count": null,
   "id": "b20e0184-cce2-41e5-b100-1372dabc824b",
   "metadata": {},
   "outputs": [],
   "source": []
  }
 ],
 "metadata": {
  "kernelspec": {
   "display_name": "Python 3 (ipykernel)",
   "language": "python",
   "name": "python3"
  },
  "language_info": {
   "codemirror_mode": {
    "name": "ipython",
    "version": 3
   },
   "file_extension": ".py",
   "mimetype": "text/x-python",
   "name": "python",
   "nbconvert_exporter": "python",
   "pygments_lexer": "ipython3",
   "version": "3.9.13"
  }
 },
 "nbformat": 4,
 "nbformat_minor": 5
}
