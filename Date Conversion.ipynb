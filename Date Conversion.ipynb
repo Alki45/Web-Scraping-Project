{
 "cells": [
  {
   "cell_type": "code",
   "execution_count": 8,
   "id": "7207e900-f6c3-456c-be04-c3c7cd93226f",
   "metadata": {},
   "outputs": [
    {
     "name": "stdout",
     "output_type": "stream",
     "text": [
      "Date: 2023-07-02\n"
     ]
    }
   ],
   "source": [
    "import datetime\n",
    "\n",
    "timestamp = 1688342400000  # Example timestamp in milliseconds\n",
    "\n",
    "# Convert timestamp to date\n",
    "date = datetime.datetime.fromtimestamp(timestamp / 1000).date()\n",
    "\n",
    "print(\"Date:\", date)"
   ]
  },
  {
   "cell_type": "code",
   "execution_count": 51,
   "id": "27d77132-a134-4d3c-a3da-174bf46d64a9",
   "metadata": {},
   "outputs": [
    {
     "name": "stdout",
     "output_type": "stream",
     "text": [
      "Date (UTC): 2021-11-06\n"
     ]
    }
   ],
   "source": [
    "import datetime\n",
    "\n",
    "timestamp = 1636156800000  # Example timestamp in milliseconds\n",
    "\n",
    "# Convert timestamp to date in UTC\n",
    "date_utc = datetime.datetime.utcfromtimestamp(timestamp / 1000).date()\n",
    "\n",
    "print(\"Date (UTC):\", date_utc)"
   ]
  },
  {
   "cell_type": "code",
   "execution_count": 40,
   "id": "4e0b6f32-5205-40c2-b515-2433f226bb6c",
   "metadata": {},
   "outputs": [
    {
     "name": "stdout",
     "output_type": "stream",
     "text": [
      "Date (UTC): 11/06/2021\n"
     ]
    }
   ],
   "source": [
    "import datetime\n",
    "\n",
    "timestamp = 1636156800000  # Example timestamp in milliseconds\n",
    "\n",
    "# Convert timestamp to date in UTC\n",
    "date_utc = datetime.datetime.utcfromtimestamp(timestamp / 1000).date()\n",
    "\n",
    "# Format the date as mm/dd/yyyy\n",
    "formatted_date = date_utc.strftime(\"%m/%d/%Y\")\n",
    "\n",
    "print(\"Date (UTC):\", formatted_date)"
   ]
  },
  {
   "cell_type": "code",
   "execution_count": null,
   "id": "4f5b329d-5ad4-4bba-8c6e-c361c4b78271",
   "metadata": {},
   "outputs": [],
   "source": [
    "start=1636156800000\n",
    "finish=1699401600000"
   ]
  },
  {
   "cell_type": "code",
   "execution_count": 23,
   "id": "8bf2fb2f-b2b6-4c78-961e-12e90b606fb9",
   "metadata": {},
   "outputs": [
    {
     "name": "stdout",
     "output_type": "stream",
     "text": [
      "Data not found\n"
     ]
    }
   ],
   "source": [
    "import requests\n",
    "\n",
    "url = \"https://niche-trends-index-backend.ezoic.com/adindex/series/United%20States\"\n",
    "\n",
    "try:\n",
    "    response = requests.get(url)\n",
    "    response.raise_for_status()\n",
    "\n",
    "    content = response.content.decode(\"utf-8\")\n",
    "\n",
    "    # Find the index where \"categories: 1633305600000\" starts\n",
    "    start_index = content.find(\"categories: 1633305600000\")\n",
    "\n",
    "    if start_index != -1:\n",
    "        # Extract the data starting from the found index\n",
    "        data = content[start_index:]\n",
    "        print(data)\n",
    "    else:\n",
    "        print(\"Data not found\")\n",
    "except requests.exceptions.RequestException as e:\n",
    "    print(\"Request failed:\", e)"
   ]
  },
  {
   "cell_type": "code",
   "execution_count": 34,
   "id": "41c7314d-8458-42aa-bcaa-092e5416d925",
   "metadata": {},
   "outputs": [
    {
     "ename": "ValueError",
     "evalue": "1636182000000 is not in list",
     "output_type": "error",
     "traceback": [
      "\u001b[1;31m---------------------------------------------------------------------------\u001b[0m",
      "\u001b[1;31mValueError\u001b[0m                                Traceback (most recent call last)",
      "\u001b[1;32m~\\AppData\\Local\\Temp\\ipykernel_16556\\4080863824.py\u001b[0m in \u001b[0;36m<module>\u001b[1;34m\u001b[0m\n\u001b[0;32m     15\u001b[0m         \u001b[1;32mif\u001b[0m \u001b[1;34m\"categories\"\u001b[0m \u001b[1;32min\u001b[0m \u001b[0mdata_dict\u001b[0m \u001b[1;32mand\u001b[0m \u001b[0misinstance\u001b[0m\u001b[1;33m(\u001b[0m\u001b[0mdata_dict\u001b[0m\u001b[1;33m[\u001b[0m\u001b[1;34m\"categories\"\u001b[0m\u001b[1;33m]\u001b[0m\u001b[1;33m,\u001b[0m \u001b[0mlist\u001b[0m\u001b[1;33m)\u001b[0m\u001b[1;33m:\u001b[0m\u001b[1;33m\u001b[0m\u001b[1;33m\u001b[0m\u001b[0m\n\u001b[0;32m     16\u001b[0m             \u001b[0mcategories\u001b[0m \u001b[1;33m=\u001b[0m \u001b[0mdata_dict\u001b[0m\u001b[1;33m[\u001b[0m\u001b[1;34m\"categories\"\u001b[0m\u001b[1;33m]\u001b[0m\u001b[1;33m\u001b[0m\u001b[1;33m\u001b[0m\u001b[0m\n\u001b[1;32m---> 17\u001b[1;33m             \u001b[0mstart_index\u001b[0m \u001b[1;33m=\u001b[0m \u001b[0mcategories\u001b[0m\u001b[1;33m.\u001b[0m\u001b[0mindex\u001b[0m\u001b[1;33m(\u001b[0m\u001b[1;36m1636182000000\u001b[0m\u001b[1;33m)\u001b[0m\u001b[1;33m\u001b[0m\u001b[1;33m\u001b[0m\u001b[0m\n\u001b[0m\u001b[0;32m     18\u001b[0m \u001b[1;33m\u001b[0m\u001b[0m\n\u001b[0;32m     19\u001b[0m             \u001b[1;32mif\u001b[0m \u001b[0mstart_index\u001b[0m \u001b[1;33m!=\u001b[0m \u001b[1;33m-\u001b[0m\u001b[1;36m1\u001b[0m\u001b[1;33m:\u001b[0m\u001b[1;33m\u001b[0m\u001b[1;33m\u001b[0m\u001b[0m\n",
      "\u001b[1;31mValueError\u001b[0m: 1636182000000 is not in list"
     ]
    }
   ],
   "source": [
    "import requests\n",
    "import json\n",
    "\n",
    "url = \"https://niche-trends-index-backend.ezoic.com/adindex/series/United%20States\"\n",
    "\n",
    "try:\n",
    "    response = requests.get(url)\n",
    "    response.raise_for_status()\n",
    "\n",
    "    data = response.json()\n",
    "\n",
    "    if \"data\" in data and isinstance(data[\"data\"], dict):\n",
    "        data_dict = data[\"data\"]\n",
    "\n",
    "        if \"categories\" in data_dict and isinstance(data_dict[\"categories\"], list):\n",
    "            categories = data_dict[\"categories\"]\n",
    "            start_index = categories.index(1636182000000)\n",
    "\n",
    "            if start_index != -1:\n",
    "                # Extract the data starting from the found index\n",
    "                extracted_data = {\n",
    "                    \"categories\": categories[start_index:],\n",
    "                    \"series\": data_dict[\"series\"]\n",
    "                }\n",
    "                print(json.dumps(extracted_data))\n",
    "            else:\n",
    "                print(\"Data not found\")\n",
    "        else:\n",
    "            print(\"Invalid 'categories' format\")\n",
    "    else:\n",
    "        print(\"Invalid 'data' format\")\n",
    "except requests.exceptions.RequestException as e:\n",
    "    print(\"Request failed:\", e)"
   ]
  },
  {
   "cell_type": "code",
   "execution_count": 30,
   "id": "75b4f918-8591-4ecf-8a18-cf39f8a4b83a",
   "metadata": {},
   "outputs": [
    {
     "name": "stdout",
     "output_type": "stream",
     "text": [
      "1636182000000\n"
     ]
    }
   ],
   "source": [
    "from datetime import datetime\n",
    "\n",
    "# Input date string\n",
    "date_string = \"Nov 6, 2021\"\n",
    "\n",
    "# Parse the date string into a datetime object\n",
    "parsed_date = datetime.strptime(date_string, \"%b %d, %Y\")\n",
    "\n",
    "# Convert the datetime object to milliseconds since the epoch\n",
    "milliseconds = int(parsed_date.timestamp()) * 1000\n",
    "\n",
    "print(milliseconds)"
   ]
  },
  {
   "cell_type": "code",
   "execution_count": 41,
   "id": "9df4f5e9-8f0b-49cc-80c2-49d0dee8dad5",
   "metadata": {},
   "outputs": [
    {
     "name": "stdout",
     "output_type": "stream",
     "text": [
      "Length of categories: 732\n",
      "Length of series data: 2765\n",
      "i: 2033\n"
     ]
    },
    {
     "ename": "IndexError",
     "evalue": "list index out of range",
     "output_type": "error",
     "traceback": [
      "\u001b[1;31m---------------------------------------------------------------------------\u001b[0m",
      "\u001b[1;31mIndexError\u001b[0m                                Traceback (most recent call last)",
      "\u001b[1;32m~\\AppData\\Local\\Temp\\ipykernel_16556\\1815501120.py\u001b[0m in \u001b[0;36m<module>\u001b[1;34m\u001b[0m\n\u001b[0;32m     35\u001b[0m                     \u001b[1;32mfor\u001b[0m \u001b[0mi\u001b[0m\u001b[1;33m,\u001b[0m \u001b[0mvalue\u001b[0m \u001b[1;32min\u001b[0m \u001b[0menumerate\u001b[0m\u001b[1;33m(\u001b[0m\u001b[0mextracted_data\u001b[0m\u001b[1;33m[\u001b[0m\u001b[1;34m\"series\"\u001b[0m\u001b[1;33m]\u001b[0m\u001b[1;33m[\u001b[0m\u001b[1;34m\"data\"\u001b[0m\u001b[1;33m]\u001b[0m\u001b[1;33m,\u001b[0m \u001b[0mstart\u001b[0m\u001b[1;33m=\u001b[0m\u001b[0mstart_index\u001b[0m\u001b[1;33m)\u001b[0m\u001b[1;33m:\u001b[0m\u001b[1;33m\u001b[0m\u001b[1;33m\u001b[0m\u001b[0m\n\u001b[0;32m     36\u001b[0m                         \u001b[0mprint\u001b[0m\u001b[1;33m(\u001b[0m\u001b[1;34m\"i:\"\u001b[0m\u001b[1;33m,\u001b[0m \u001b[0mi\u001b[0m\u001b[1;33m)\u001b[0m\u001b[1;33m\u001b[0m\u001b[1;33m\u001b[0m\u001b[0m\n\u001b[1;32m---> 37\u001b[1;33m                         \u001b[0mwriter\u001b[0m\u001b[1;33m.\u001b[0m\u001b[0mwriterow\u001b[0m\u001b[1;33m(\u001b[0m\u001b[1;33m[\u001b[0m\u001b[0mextracted_data\u001b[0m\u001b[1;33m[\u001b[0m\u001b[1;34m\"categories\"\u001b[0m\u001b[1;33m]\u001b[0m\u001b[1;33m[\u001b[0m\u001b[0mi\u001b[0m\u001b[1;33m]\u001b[0m\u001b[1;33m,\u001b[0m \u001b[0mvalue\u001b[0m\u001b[1;33m]\u001b[0m\u001b[1;33m)\u001b[0m\u001b[1;33m\u001b[0m\u001b[1;33m\u001b[0m\u001b[0m\n\u001b[0m\u001b[0;32m     38\u001b[0m \u001b[1;33m\u001b[0m\u001b[0m\n\u001b[0;32m     39\u001b[0m                 \u001b[0mprint\u001b[0m\u001b[1;33m(\u001b[0m\u001b[1;34m\"Data written to CSV file:\"\u001b[0m\u001b[1;33m,\u001b[0m \u001b[0mcsv_file\u001b[0m\u001b[1;33m)\u001b[0m\u001b[1;33m\u001b[0m\u001b[1;33m\u001b[0m\u001b[0m\n",
      "\u001b[1;31mIndexError\u001b[0m: list index out of range"
     ]
    }
   ],
   "source": [
    "import requests\n",
    "import csv\n",
    "\n",
    "url = \"https://niche-trends-index-backend.ezoic.com/adindex/series/United%20States\"\n",
    "csv_file = \"extracted_data.csv\"\n",
    "\n",
    "try:\n",
    "    response = requests.get(url)\n",
    "    response.raise_for_status()\n",
    "\n",
    "    data = response.json()\n",
    "\n",
    "    if \"data\" in data and isinstance(data[\"data\"], dict):\n",
    "        data_dict = data[\"data\"]\n",
    "\n",
    "        if \"categories\" in data_dict and isinstance(data_dict[\"categories\"], list):\n",
    "            categories = data_dict[\"categories\"]\n",
    "            start_index = categories.index(1636156800000)\n",
    "\n",
    "            if start_index != -1:\n",
    "                # Extract the data starting from the found index\n",
    "                extracted_data = {\n",
    "                    \"categories\": categories[start_index:],\n",
    "                    \"series\": data_dict[\"series\"]\n",
    "                }\n",
    "\n",
    "                print(\"Length of categories:\", len(extracted_data[\"categories\"]))\n",
    "                print(\"Length of series data:\", len(extracted_data[\"series\"][\"data\"]))\n",
    "\n",
    "                # Write extracted data to CSV file\n",
    "                with open(csv_file, \"w\", newline=\"\") as file:\n",
    "                    writer = csv.writer(file)\n",
    "                    writer.writerow([\"Category\", \"Value\"])\n",
    "\n",
    "                    for i, value in enumerate(extracted_data[\"series\"][\"data\"], start=start_index):\n",
    "                        print(\"i:\", i)\n",
    "                        writer.writerow([extracted_data[\"categories\"][i], value])\n",
    "\n",
    "                print(\"Data written to CSV file:\", csv_file)\n",
    "            else:\n",
    "                print(\"Data not found\")\n",
    "        else:\n",
    "            print(\"Invalid 'categories' format\")\n",
    "    else:\n",
    "        print(\"Invalid 'data' format\")\n",
    "except requests.exceptions.RequestException as e:\n",
    "    print(\"Request failed:\", e)"
   ]
  },
  {
   "cell_type": "code",
   "execution_count": 43,
   "id": "07fbbf07-e88c-406e-93dc-6cb089e482ba",
   "metadata": {},
   "outputs": [
    {
     "name": "stdout",
     "output_type": "stream",
     "text": [
      "{\"categories\": [1636156800000, 1636243200000, 1636329600000, 1636416000000, 1636502400000, 1636588800000, 1636675200000, 1636761600000, 1636848000000, 1636934400000, 1637020800000, 1637107200000, 1637193600000, 1637280000000, 1637366400000, 1637452800000, 1637539200000, 1637625600000, 1637712000000, 1637798400000, 1637884800000, 1637971200000, 1638057600000, 1638144000000, 1638230400000, 1638316800000, 1638403200000, 1638489600000, 1638576000000, 1638662400000, 1638748800000, 1638835200000, 1638921600000, 1639008000000, 1639094400000, 1639180800000, 1639267200000, 1639353600000, 1639440000000, 1639526400000, 1639612800000, 1639699200000, 1639785600000, 1639872000000, 1639958400000, 1640044800000, 1640131200000, 1640217600000, 1640304000000, 1640390400000, 1640476800000, 1640563200000, 1640649600000, 1640736000000, 1640822400000, 1640908800000, 1640995200000, 1641081600000, 1641168000000, 1641254400000, 1641340800000, 1641427200000, 1641513600000, 1641600000000, 1641686400000, 1641772800000, 1641859200000, 1641945600000, 1642032000000, 1642118400000, 1642204800000, 1642291200000, 1642377600000, 1642464000000, 1642550400000, 1642636800000, 1642723200000, 1642809600000, 1642896000000, 1642982400000, 1643068800000, 1643155200000, 1643241600000, 1643328000000, 1643414400000, 1643500800000, 1643587200000, 1643673600000, 1643760000000, 1643846400000, 1643932800000, 1644019200000, 1644105600000, 1644192000000, 1644278400000, 1644364800000, 1644451200000, 1644537600000, 1644624000000, 1644710400000, 1644796800000, 1644883200000, 1644969600000, 1645056000000, 1645142400000, 1645228800000, 1645315200000, 1645401600000, 1645488000000, 1645574400000, 1645660800000, 1645747200000, 1645833600000, 1645920000000, 1646006400000, 1646092800000, 1646179200000, 1646265600000, 1646352000000, 1646438400000, 1646524800000, 1646611200000, 1646697600000, 1646784000000, 1646870400000, 1646956800000, 1647043200000, 1647129600000, 1647216000000, 1647302400000, 1647388800000, 1647475200000, 1647561600000, 1647648000000, 1647734400000, 1647820800000, 1647907200000, 1647993600000, 1648080000000, 1648166400000, 1648252800000, 1648339200000, 1648425600000, 1648512000000, 1648598400000, 1648684800000, 1648771200000, 1648857600000, 1648944000000, 1649030400000, 1649116800000, 1649203200000, 1649289600000, 1649376000000, 1649462400000, 1649548800000, 1649635200000, 1649721600000, 1649808000000, 1649894400000, 1649980800000, 1650067200000, 1650153600000, 1650240000000, 1650326400000, 1650412800000, 1650499200000, 1650585600000, 1650672000000, 1650758400000, 1650844800000, 1650931200000, 1651017600000, 1651104000000, 1651190400000, 1651276800000, 1651363200000, 1651449600000, 1651536000000, 1651622400000, 1651708800000, 1651795200000, 1651881600000, 1651968000000, 1652054400000, 1652140800000, 1652227200000, 1652313600000, 1652400000000, 1652486400000, 1652572800000, 1652659200000, 1652745600000, 1652832000000, 1652918400000, 1653004800000, 1653091200000, 1653177600000, 1653264000000, 1653350400000, 1653436800000, 1653523200000, 1653609600000, 1653696000000, 1653782400000, 1653868800000, 1653955200000, 1654041600000, 1654128000000, 1654214400000, 1654300800000, 1654387200000, 1654473600000, 1654560000000, 1654646400000, 1654732800000, 1654819200000, 1654905600000, 1654992000000, 1655078400000, 1655164800000, 1655251200000, 1655337600000, 1655424000000, 1655510400000, 1655596800000, 1655683200000, 1655769600000, 1655856000000, 1655942400000, 1656028800000, 1656115200000, 1656201600000, 1656288000000, 1656374400000, 1656460800000, 1656547200000, 1656633600000, 1656720000000, 1656806400000, 1656892800000, 1656979200000, 1657065600000, 1657152000000, 1657238400000, 1657324800000, 1657411200000, 1657497600000, 1657584000000, 1657670400000, 1657756800000, 1657843200000, 1657929600000, 1658016000000, 1658102400000, 1658188800000, 1658275200000, 1658361600000, 1658448000000, 1658534400000, 1658620800000, 1658707200000, 1658793600000, 1658880000000, 1658966400000, 1659052800000, 1659139200000, 1659225600000, 1659312000000, 1659398400000, 1659484800000, 1659571200000, 1659657600000, 1659744000000, 1659830400000, 1659916800000, 1660003200000, 1660089600000, 1660176000000, 1660262400000, 1660348800000, 1660435200000, 1660521600000, 1660608000000, 1660694400000, 1660780800000, 1660867200000, 1660953600000, 1661040000000, 1661126400000, 1661212800000, 1661299200000, 1661385600000, 1661472000000, 1661558400000, 1661644800000, 1661731200000, 1661817600000, 1661904000000, 1661990400000, 1662076800000, 1662163200000, 1662249600000, 1662336000000, 1662422400000, 1662508800000, 1662595200000, 1662681600000, 1662768000000, 1662854400000, 1662940800000, 1663027200000, 1663113600000, 1663200000000, 1663286400000, 1663372800000, 1663459200000, 1663545600000, 1663632000000, 1663718400000, 1663804800000, 1663891200000, 1663977600000, 1664064000000, 1664150400000, 1664236800000, 1664323200000, 1664409600000, 1664496000000, 1664582400000, 1664668800000, 1664755200000, 1664841600000, 1664928000000, 1665014400000, 1665100800000, 1665187200000, 1665273600000, 1665360000000, 1665446400000, 1665532800000, 1665619200000, 1665705600000, 1665792000000, 1665878400000, 1665964800000, 1666051200000, 1666137600000, 1666224000000, 1666310400000, 1666396800000, 1666483200000, 1666569600000, 1666656000000, 1666742400000, 1666828800000, 1666915200000, 1667001600000, 1667088000000, 1667174400000, 1667260800000, 1667347200000, 1667433600000, 1667520000000, 1667606400000, 1667692800000, 1667779200000, 1667865600000, 1667952000000, 1668038400000, 1668124800000, 1668211200000, 1668297600000, 1668384000000, 1668470400000, 1668556800000, 1668643200000, 1668729600000, 1668816000000, 1668902400000, 1668988800000, 1669075200000, 1669161600000, 1669248000000, 1669334400000, 1669420800000, 1669507200000, 1669593600000, 1669680000000, 1669766400000, 1669852800000, 1669939200000, 1670025600000, 1670112000000, 1670198400000, 1670284800000, 1670371200000, 1670457600000, 1670544000000, 1670630400000, 1670716800000, 1670803200000, 1670889600000, 1670976000000, 1671062400000, 1671148800000, 1671235200000, 1671321600000, 1671408000000, 1671494400000, 1671580800000, 1671667200000, 1671753600000, 1671840000000, 1671926400000, 1672012800000, 1672099200000, 1672185600000, 1672272000000, 1672358400000, 1672444800000, 1672531200000, 1672617600000, 1672704000000, 1672790400000, 1672876800000, 1672963200000, 1673049600000, 1673136000000, 1673222400000, 1673308800000, 1673395200000, 1673481600000, 1673568000000, 1673654400000, 1673740800000, 1673827200000, 1673913600000, 1674000000000, 1674086400000, 1674172800000, 1674259200000, 1674345600000, 1674432000000, 1674518400000, 1674604800000, 1674691200000, 1674777600000, 1674950400000, 1675036800000, 1675123200000, 1675209600000, 1675296000000, 1675382400000, 1675468800000, 1675555200000, 1675641600000, 1675728000000, 1675814400000, 1675900800000, 1675987200000, 1676073600000, 1676160000000, 1676246400000, 1676332800000, 1676419200000, 1676505600000, 1676592000000, 1676678400000, 1676764800000, 1676851200000, 1676937600000, 1677024000000, 1677110400000, 1677196800000, 1677283200000, 1677369600000, 1677456000000, 1677542400000, 1677628800000, 1677715200000, 1677801600000, 1677888000000, 1677974400000, 1678060800000, 1678147200000, 1678233600000, 1678320000000, 1678406400000, 1678492800000, 1678579200000, 1678665600000, 1678752000000, 1678838400000, 1678924800000, 1679011200000, 1679097600000, 1679184000000, 1679270400000, 1679356800000, 1679443200000, 1679529600000, 1679616000000, 1679702400000, 1679788800000, 1679875200000, 1679961600000, 1680048000000, 1680134400000, 1680220800000, 1680307200000, 1680393600000, 1680480000000, 1680566400000, 1680652800000, 1680739200000, 1680825600000, 1680912000000, 1680998400000, 1681084800000, 1681171200000, 1681257600000, 1681344000000, 1681430400000, 1681516800000, 1681603200000, 1681689600000, 1681776000000, 1681862400000, 1681948800000, 1682035200000, 1682121600000, 1682208000000, 1682294400000, 1682380800000, 1682467200000, 1682553600000, 1682640000000, 1682726400000, 1682812800000, 1682899200000, 1682985600000, 1683072000000, 1683158400000, 1683244800000, 1683331200000, 1683417600000, 1683504000000, 1683590400000, 1683676800000, 1683763200000, 1683849600000, 1683936000000, 1684022400000, 1684108800000, 1684195200000, 1684281600000, 1684368000000, 1684454400000, 1684540800000, 1684627200000, 1684713600000, 1684800000000, 1684886400000, 1684972800000, 1685059200000, 1685145600000, 1685232000000, 1685318400000, 1685404800000, 1685491200000, 1685577600000, 1685664000000, 1685750400000, 1685836800000, 1685923200000, 1686009600000, 1686096000000, 1686182400000, 1686268800000, 1686355200000, 1686441600000, 1686528000000, 1686614400000, 1686700800000, 1686787200000, 1686873600000, 1686960000000, 1687046400000, 1687132800000, 1687219200000, 1687305600000, 1687392000000, 1687478400000, 1687564800000, 1687651200000, 1687737600000, 1687824000000, 1687910400000, 1687996800000, 1688083200000, 1688169600000, 1688256000000, 1688342400000, 1688428800000, 1688515200000, 1688601600000, 1688688000000, 1688774400000, 1688860800000, 1688947200000, 1689033600000, 1689120000000, 1689206400000, 1689292800000, 1689379200000, 1689465600000, 1689552000000, 1689638400000, 1689724800000, 1689811200000, 1689897600000, 1689984000000, 1690070400000, 1690156800000, 1690243200000, 1690329600000, 1690416000000, 1690502400000, 1690588800000, 1690675200000, 1690761600000, 1690848000000, 1690934400000, 1691020800000, 1691107200000, 1691193600000, 1691280000000, 1691366400000, 1691452800000, 1691539200000, 1691625600000, 1691712000000, 1691798400000, 1691884800000, 1691971200000, 1692057600000, 1692144000000, 1692230400000, 1692316800000, 1692403200000, 1692489600000, 1692576000000, 1692662400000, 1692748800000, 1692835200000, 1692921600000, 1693008000000, 1693094400000, 1693180800000, 1693267200000, 1693353600000, 1693440000000, 1693526400000, 1693612800000, 1693699200000, 1693785600000, 1693872000000, 1693958400000, 1694044800000, 1694131200000, 1694217600000, 1694304000000, 1694390400000, 1694476800000, 1694563200000, 1694649600000, 1694736000000, 1694822400000, 1694908800000, 1694995200000, 1695081600000, 1695168000000, 1695254400000, 1695340800000, 1695427200000, 1695513600000, 1695600000000, 1695686400000, 1695772800000, 1695859200000, 1695945600000, 1696032000000, 1696118400000, 1696204800000, 1696291200000, 1696377600000, 1696464000000, 1696550400000, 1696636800000, 1696723200000, 1696809600000, 1696896000000, 1696982400000, 1697068800000, 1697155200000, 1697241600000, 1697328000000, 1697414400000, 1697500800000, 1697587200000, 1697673600000, 1697760000000, 1697846400000, 1697932800000, 1698019200000, 1698105600000, 1698192000000, 1698278400000, 1698364800000, 1698451200000, 1698537600000, 1698624000000, 1698710400000, 1698796800000, 1698883200000, 1698969600000, 1699056000000, 1699142400000, 1699228800000, 1699315200000, 1699401600000], \"series\": {\"data\": [67, 63, 64, 66, 66, 68, 71, 70, 67, 67, 68, 69, 73, 77, 78, 76, 73, 75, 77, 78, 100, 93, 87, 89, 79, 78, 75, 76, 74, 70, 67, 66, 69, 71, 74, 73, 73, 70, 71, 70, 73, 76, 75, 71, 72, 72, 71, 70, 69, 66, 62, 61, 62, 61, 58, 56, 46, 43, 44, 47, 46, 47, 47, 48, 47, 49, 50, 50, 51, 52, 51, 49, 49, 49, 50, 51, 53, 52, 52, 50, 53, 53, 53, 54, 52, 51, 50, 51, 50, 52, 54, 54, 54, 53, 54, 54, 56, 58, 53, 57, 56, 57, 57, 56, 58, 58, 58, 57, 56, 56, 55, 56, 57, 55, 52, 53, 54, 56, 56, 56, 54, 55, 54, 53, 54, 56, 55, 55, 55, 54, 54, 56, 57, 57, 56, 56, 57, 57, 56, 59, 56, 57, 55, 57, 58, 52, 51, 51, 49, 49, 50, 48, 51, 52, 51, 51, 51, 53, 54, 57, 58, 55, 55, 57, 56, 57, 59, 59, 59, 57, 54, 53, 55, 54, 53, 49, 48, 49, 49, 50, 53, 55, 53, 51, 52, 51, 52, 53, 56, 55, 53, 52, 54, 54, 56, 58, 56, 54, 53, 51, 53, 52, 57, 55, 55, 53, 51, 53, 54, 54, 53, 52, 51, 52, 53, 54, 56, 56, 52, 52, 54, 57, 56, 57, 56, 55, 54, 54, 56, 59, 60, 58, 56, 56, 56, 56, 52, 49, 48, 48, 49, 49, 48, 50, 50, 50, 50, 52, 52, 52, 51, 51, 51, 49, 49, 51, 51, 52, 54, 52, 51, 52, 51, 51, 52, 52, 50, 48, 48, 48, 48, 48, 49, 47, 45, 44, 44, 45, 46, 47, 45, 44, 47, 47, 47, 49, 51, 52, 51, 50, 50, 49, 52, 55, 56, 53, 50, 50, 50, 53, 54, 55, 53, 50, 50, 51, 53, 57, 58, 54, 54, 54, 55, 51, 55, 54, 54, 53, 51, 54, 56, 58, 56, 54, 52, 53, 53, 53, 51, 49, 49, 50, 51, 50, 51, 53, 51, 48, 49, 51, 51, 51, 52, 47, 49, 49, 50, 51, 49, 54, 52, 46, 48, 51, 52, 52, 54, 54, 50, 50, 50, 51, 51, 53, 51, 48, 51, 49, 49, 50, 51, 50, 49, 50, 51, 52, 54, 54, 54, 52, 54, 56, 56, 55, 67, 62, 61, 63, 55, 51, 51, 53, 52, 49, 50, 52, 51, 55, 56, 53, 51, 51, 49, 49, 50, 51, 50, 47, 46, 44, 45, 43, 42, 41, 41, 40, 39, 40, 40, 40, 37, 35, 34, 36, 37, 38, 39, 38, 37, 40, 40, 40, 40, 39, 38, 35, 39, 39, 40, 40, 41, 40, 39, 41, 41, 41, 40, 42, 39, 38, 38, 43, 42, 47, 43, 43, 45, 46, 50, 50, 51, 46, 48, 49, 46, 46, 44, 45, 44, 43, 43, 41, 39, 42, 44, 42, 40, 40, 37, 37, 38, 40, 38, 38, 38, 42, 41, 42, 42, 40, 38, 40, 40, 38, 40, 42, 41, 38, 39, 36, 42, 41, 38, 40, 38, 39, 41, 40, 38, 37, 33, 36, 37, 37, 37, 38, 39, 37, 38, 39, 37, 38, 40, 40, 39, 37, 41, 42, 43, 42, 42, 40, 38, 40, 39, 41, 39, 40, 38, 34, 33, 35, 37, 37, 38, 35, 35, 39, 38, 41, 42, 40, 38, 34, 39, 38, 41, 40, 41, 39, 38, 41, 40, 42, 41, 43, 41, 40, 40, 40, 39, 40, 40, 38, 37, 39, 41, 41, 41, 42, 39, 38, 40, 40, 41, 41, 41, 37, 37, 37, 38, 40, 41, 41, 39, 38, 40, 41, 42, 43, 40, 35, 34, 37, 36, 39, 38, 38, 36, 36, 37, 37, 38, 38, 38, 36, 35, 37, 37, 36, 33, 38, 38, 37, 39, 39, 40, 41, 43, 38, 37, 36, 37, 38, 37, 38, 36, 36, 37, 39, 38, 38, 39, 37, 36, 37, 38, 39, 43, 40, 37, 35, 44, 47, 47, 45, 48, 46, 44, 45, 44, 44, 49, 47, 52, 49, 45, 44, 45, 46, 46, 42, 40, 41, 50, 41, 45, 39, 43, 41, 42, 42, 43, 44, 49, 37, 36, 38, 41, 40, 40, 43, 39, 36, 40, 40, 39, 39, 40, 40, 38, 39, 37, 40, 42, 43, 38, 37, 40, 49, 49, 43, 42, 49, 41, 42, 42, 43, 43, 44, 46, 39, 41, 43, 46, 43, 53, 48, 40, 41, 43, 42]}}\n"
     ]
    }
   ],
   "source": [
    "import requests\n",
    "import json\n",
    "\n",
    "url = \"https://niche-trends-index-backend.ezoic.com/adindex/series/United%20States\"\n",
    "\n",
    "try:\n",
    "    response = requests.get(url)\n",
    "    response.raise_for_status()\n",
    "\n",
    "    data = response.json()\n",
    "\n",
    "    if \"data\" in data and isinstance(data[\"data\"], dict):\n",
    "        data_dict = data[\"data\"]\n",
    "\n",
    "        if \"categories\" in data_dict and isinstance(data_dict[\"categories\"], list):\n",
    "            categories = data_dict[\"categories\"]\n",
    "\n",
    "            # Find the index of the specified timestamp\n",
    "            start_index = categories.index(1636156800000)\n",
    "\n",
    "            if start_index != -1:\n",
    "                # Extract the series data starting from the found index\n",
    "                series_data = data_dict[\"series\"][\"data\"][start_index:]\n",
    "                extracted_data = {\n",
    "                    \"categories\": categories[start_index:],\n",
    "                    \"series\": {\"data\": series_data}\n",
    "                }\n",
    "                print(json.dumps(extracted_data))\n",
    "            else:\n",
    "                print(\"Timestamp index not found\")\n",
    "        else:\n",
    "            print(\"Invalid 'categories' format\")\n",
    "    else:\n",
    "        print(\"Invalid 'data' format\")\n",
    "except requests.exceptions.RequestException as e:\n",
    "    print(\"Request failed:\", e)"
   ]
  },
  {
   "cell_type": "code",
   "execution_count": 44,
   "id": "a98d435a-fd92-48f9-ad1b-620bf7d7265d",
   "metadata": {},
   "outputs": [
    {
     "name": "stdout",
     "output_type": "stream",
     "text": [
      "Data saved to extracted_data.csv\n"
     ]
    }
   ],
   "source": [
    "import requests\n",
    "import csv\n",
    "\n",
    "url = \"https://niche-trends-index-backend.ezoic.com/adindex/series/United%20States\"\n",
    "\n",
    "try:\n",
    "    response = requests.get(url)\n",
    "    response.raise_for_status()\n",
    "\n",
    "    data = response.json()\n",
    "\n",
    "    if \"data\" in data and isinstance(data[\"data\"], dict):\n",
    "        data_dict = data[\"data\"]\n",
    "\n",
    "        if \"categories\" in data_dict and isinstance(data_dict[\"categories\"], list):\n",
    "            categories = data_dict[\"categories\"]\n",
    "\n",
    "            # Find the index of the specified timestamp\n",
    "            start_index = categories.index(1636156800000)\n",
    "\n",
    "            if start_index != -1:\n",
    "                # Extract the series data starting from the found index\n",
    "                series_data = data_dict[\"series\"][\"data\"][start_index:]\n",
    "\n",
    "                # Prepare the data for CSV writing\n",
    "                extracted_data = list(zip(categories[start_index:], series_data))\n",
    "                \n",
    "                # Write the data to a CSV file\n",
    "                with open(\"extracted_data.csv\", \"w\", newline=\"\") as csvfile:\n",
    "                    writer = csv.writer(csvfile)\n",
    "                    writer.writerow([\"Timestamp\", \"Series Data\"])\n",
    "                    writer.writerows(extracted_data)\n",
    "\n",
    "                print(\"Data saved to extracted_data.csv\")\n",
    "            else:\n",
    "                print(\"Timestamp index not found\")\n",
    "        else:\n",
    "            print(\"Invalid 'categories' format\")\n",
    "    else:\n",
    "        print(\"Invalid 'data' format\")\n",
    "except requests.exceptions.RequestException as e:\n",
    "    print(\"Request failed:\", e)"
   ]
  },
  {
   "cell_type": "code",
   "execution_count": 59,
   "id": "633a5d41-eae4-4cfd-bac2-bb0cdd2260ae",
   "metadata": {},
   "outputs": [
    {
     "name": "stdout",
     "output_type": "stream",
     "text": [
      "Data saved to extracted_data.csv\n"
     ]
    }
   ],
   "source": [
    "import requests\n",
    "import csv\n",
    "from datetime import datetime\n",
    "\n",
    "url = \"https://niche-trends-index-backend.ezoic.com/adindex/series/United%20States\"\n",
    "\n",
    "try:\n",
    "    response = requests.get(url)\n",
    "    response.raise_for_status()\n",
    "\n",
    "    data = response.json()\n",
    "\n",
    "    if \"data\" in data and isinstance(data[\"data\"], dict):\n",
    "        data_dict = data[\"data\"]\n",
    "\n",
    "        if \"categories\" in data_dict and isinstance(data_dict[\"categories\"], list):\n",
    "            categories = data_dict[\"categories\"]\n",
    "\n",
    "            # Find the index of the specified timestamp\n",
    "            start_index = categories.index(1636156800000)\n",
    "\n",
    "            if start_index != -1:\n",
    "                # Extract the series data starting from the found index\n",
    "                series_data = data_dict[\"series\"][\"data\"][start_index+1:]\n",
    "\n",
    "                # Prepare the data for CSV writing\n",
    "                extracted_data = list(zip(categories[start_index:], series_data))\n",
    "\n",
    "                # Convert timestamps to a specific date format\n",
    "                converted_data = [(datetime.utcfromtimestamp(timestamp/1000).strftime('%m-%d-%Y'), data) for timestamp, data in extracted_data]\n",
    "\n",
    "                # Write the data to a CSV file\n",
    "                with open(\"extracted_data.csv\", \"w\", newline=\"\") as csvfile:\n",
    "                    writer = csv.writer(csvfile)\n",
    "                    writer.writerow([\"USA\"])\n",
    "                    writer.writerow([\"date\", \"index number\"])\n",
    "                    writer.writerows(converted_data)\n",
    "\n",
    "                print(\"Data saved to extracted_data.csv\")\n",
    "            else:\n",
    "                print(\"Timestamp index not found\")\n",
    "        else:\n",
    "            print(\"Invalid 'categories' format\")\n",
    "    else:\n",
    "        print(\"Invalid 'data' format\")\n",
    "except requests.exceptions.RequestException as e:\n",
    "    print(\"Request failed:\", e)"
   ]
  },
  {
   "cell_type": "code",
   "execution_count": null,
   "id": "69c03947-2283-470c-b0be-5676ff366bfb",
   "metadata": {},
   "outputs": [],
   "source": []
  }
 ],
 "metadata": {
  "kernelspec": {
   "display_name": "Python 3 (ipykernel)",
   "language": "python",
   "name": "python3"
  },
  "language_info": {
   "codemirror_mode": {
    "name": "ipython",
    "version": 3
   },
   "file_extension": ".py",
   "mimetype": "text/x-python",
   "name": "python",
   "nbconvert_exporter": "python",
   "pygments_lexer": "ipython3",
   "version": "3.9.13"
  }
 },
 "nbformat": 4,
 "nbformat_minor": 5
}
